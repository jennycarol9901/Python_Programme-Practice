{
 "cells": [
  {
   "cell_type": "markdown",
   "id": "a1fa8527",
   "metadata": {},
   "source": [
    "# Python Programming (Day 1)"
   ]
  },
  {
   "cell_type": "markdown",
   "id": "d89a9f30",
   "metadata": {},
   "source": [
    "1. Write a progarm to demonstrate different number data types in python"
   ]
  },
  {
   "cell_type": "code",
   "execution_count": 1,
   "id": "216dcee7",
   "metadata": {},
   "outputs": [],
   "source": [
    "a=\"jenny\"   #string data type\n",
    "b=10        #integer data type\n",
    "c= 1.0      # float data type\n",
    "d=20+7j     # complex data type"
   ]
  },
  {
   "cell_type": "code",
   "execution_count": 3,
   "id": "4f6ff4f2",
   "metadata": {},
   "outputs": [
    {
     "name": "stdout",
     "output_type": "stream",
     "text": [
      "<class 'str'>\n"
     ]
    }
   ],
   "source": [
    "print(type(a))"
   ]
  },
  {
   "cell_type": "code",
   "execution_count": 4,
   "id": "a8098f3e",
   "metadata": {},
   "outputs": [
    {
     "name": "stdout",
     "output_type": "stream",
     "text": [
      "<class 'int'>\n"
     ]
    }
   ],
   "source": [
    "print(type(b))"
   ]
  },
  {
   "cell_type": "code",
   "execution_count": 5,
   "id": "5620a919",
   "metadata": {},
   "outputs": [
    {
     "name": "stdout",
     "output_type": "stream",
     "text": [
      "<class 'float'>\n"
     ]
    }
   ],
   "source": [
    "print (type(c))"
   ]
  },
  {
   "cell_type": "code",
   "execution_count": 6,
   "id": "629e2be6",
   "metadata": {},
   "outputs": [
    {
     "name": "stdout",
     "output_type": "stream",
     "text": [
      "<class 'complex'>\n"
     ]
    }
   ],
   "source": [
    "print (type (d))"
   ]
  },
  {
   "cell_type": "markdown",
   "id": "fcc41eed",
   "metadata": {},
   "source": [
    "2. Write a program to perform different arithematic operation on numbers in python"
   ]
  },
  {
   "cell_type": "code",
   "execution_count": 10,
   "id": "9d62acfd",
   "metadata": {},
   "outputs": [
    {
     "name": "stdout",
     "output_type": "stream",
     "text": [
      "30\n",
      "-10\n",
      "200\n",
      "0.5\n",
      "10\n",
      "100000000000000000000\n",
      "0\n"
     ]
    }
   ],
   "source": [
    "a=10\n",
    "b=20\n",
    "print(a+b) # addition\n",
    "print(a-b) #subtraction\n",
    "print(a*b) #multiplication\n",
    "print(a/b) #division\n",
    "print(a%b) #Remainder\n",
    "print(a**b) #exponent\n",
    "print(a//b) #float"
   ]
  },
  {
   "cell_type": "markdown",
   "id": "7215f69f",
   "metadata": {},
   "source": [
    "3. Write a program to create, concatenate and print a string and accesssing sub-string from a given string"
   ]
  },
  {
   "cell_type": "code",
   "execution_count": 16,
   "id": "2f0353ea",
   "metadata": {},
   "outputs": [
    {
     "name": "stdout",
     "output_type": "stream",
     "text": [
      "enter your first string: jennifer\n",
      " enter your second string: roy\n",
      "jenniferroy\n",
      " the first strng is:  jennifer\n",
      "the second string is:  roy\n",
      " the substring from given string a is:  e\n"
     ]
    }
   ],
   "source": [
    "a=input(\"enter your first string: \") #create\n",
    "b= input(\" enter your second string: \") #create\n",
    "print(a+b) #concatenate\n",
    "print(\" the first strng is: \",a) # print a string\n",
    "print(\"the second string is: \",b)\n",
    "print(\" the substring from given string a is: \",a[1:2])#substring\n"
   ]
  },
  {
   "cell_type": "code",
   "execution_count": null,
   "id": "40bbb69e",
   "metadata": {},
   "outputs": [],
   "source": []
  }
 ],
 "metadata": {
  "kernelspec": {
   "display_name": "Python 3 (ipykernel)",
   "language": "python",
   "name": "python3"
  },
  "language_info": {
   "codemirror_mode": {
    "name": "ipython",
    "version": 3
   },
   "file_extension": ".py",
   "mimetype": "text/x-python",
   "name": "python",
   "nbconvert_exporter": "python",
   "pygments_lexer": "ipython3",
   "version": "3.9.12"
  }
 },
 "nbformat": 4,
 "nbformat_minor": 5
}
